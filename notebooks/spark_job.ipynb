{
 "cells": [
  {
   "cell_type": "code",
   "execution_count": 1,
   "id": "bridal-employer",
   "metadata": {},
   "outputs": [],
   "source": [
    "from pyspark import SparkContext, SparkConf, SQLContext\n",
    "from pyspark.sql import SparkSession\n",
    "from pyspark.sql.types import IntegerType, FloatType, TimestampType, StructType, StructField\n",
    "conf = (\n",
    "    SparkConf()\n",
    "    .setAppName(\"Spark minIO Test\")\n",
    "    .set(\"spark.hadoop.fs.s3a.endpoint\", \"http://minio:9000\")\n",
    "    .set(\"spark.hadoop.fs.s3a.access.key\", 'admin')\n",
    "    .set(\"spark.hadoop.fs.s3a.secret.key\", 'admin1234')\n",
    "    .set(\"spark.hadoop.fs.s3a.path.style.access\", True)\n",
    "    .set(\"spark.hadoop.fs.s3a.impl\", \"org.apache.hadoop.fs.s3a.S3AFileSystem\")\n",
    ")\n",
    "spark = SparkSession.builder.config(conf=conf).getOrCreate()"
   ]
  },
  {
   "cell_type": "code",
   "execution_count": 2,
   "id": "little-exemption",
   "metadata": {},
   "outputs": [],
   "source": [
    "RAW_INPUT_PATH = 's3a://data/raw_input/'\n",
    "RATINGS_OUTPUT_PATH = 's3a://data/ratings/'\n",
    "TO_KVS_PATH = 's3a://data/to_kvs/'"
   ]
  },
  {
   "cell_type": "code",
   "execution_count": 4,
   "id": "joint-split",
   "metadata": {},
   "outputs": [],
   "source": [
    "schema = StructType([StructField('userId', IntegerType(), True),\n",
    "                     StructField('movieId', IntegerType(), True),\n",
    "                     StructField('rating', FloatType(), True),\n",
    "                     StructField('timestamp', TimestampType(), True)])"
   ]
  },
  {
   "cell_type": "code",
   "execution_count": 5,
   "id": "clean-alias",
   "metadata": {},
   "outputs": [],
   "source": [
    "ratings_raw = spark.read.csv(RAW_INPUT_PATH, header=True, schema=schema)"
   ]
  },
  {
   "cell_type": "code",
   "execution_count": 23,
   "id": "magnetic-saturn",
   "metadata": {},
   "outputs": [],
   "source": [
    "ratings_raw.createOrReplaceTempView('ratings_raw')"
   ]
  },
  {
   "cell_type": "code",
   "execution_count": 34,
   "id": "acknowledged-wound",
   "metadata": {},
   "outputs": [],
   "source": [
    "ratings_calc = spark.sql(\n",
    "\"\"\"\n",
    "select *,\n",
    "COALESCE(sum(1) OVER (PARTITION BY userID \n",
    "             ORDER BY timestamp\n",
    "             ROWS BETWEEN UNBOUNDED PRECEDING AND 1 PRECEDING),0)  as nb_previous_ratings,\n",
    "avg(rating) OVER (PARTITION BY userID \n",
    "             ORDER BY timestamp\n",
    "             ROWS BETWEEN UNBOUNDED PRECEDING AND 1 PRECEDING)  as avg_ratings_previous\n",
    "\n",
    "from ratings_raw where userId = 1\n",
    "\"\"\")\n"
   ]
  },
  {
   "cell_type": "code",
   "execution_count": 37,
   "id": "greater-secondary",
   "metadata": {},
   "outputs": [],
   "source": [
    "ratings_calc.write.save(RATINGS_OUTPUT_PATH, format='parquet', mode='overwrite')"
   ]
  },
  {
   "cell_type": "code",
   "execution_count": 40,
   "id": "after-driving",
   "metadata": {},
   "outputs": [],
   "source": [
    "ratings_calc.createOrReplaceTempView('ratings_calc')"
   ]
  },
  {
   "cell_type": "code",
   "execution_count": 42,
   "id": "regular-longer",
   "metadata": {},
   "outputs": [],
   "source": [
    "to_kvs = spark.sql(\n",
    "\"\"\"\n",
    "select  userId,\n",
    "        nb_previous_ratings,\n",
    "        avg_ratings_previous\n",
    "from ratings_calc a\n",
    "where timestamp = (select max(timestamp) from ratings_calc where userId = a.userId)\n",
    "\"\"\")"
   ]
  },
  {
   "cell_type": "code",
   "execution_count": 46,
   "id": "optional-stretch",
   "metadata": {},
   "outputs": [],
   "source": [
    "to_kvs.write.save(TO_KVS_PATH, format='parquet', mode='overwrite')"
   ]
  }
 ],
 "metadata": {
  "kernelspec": {
   "display_name": "Python 3",
   "language": "python",
   "name": "python3"
  },
  "language_info": {
   "codemirror_mode": {
    "name": "ipython",
    "version": 3
   },
   "file_extension": ".py",
   "mimetype": "text/x-python",
   "name": "python",
   "nbconvert_exporter": "python",
   "pygments_lexer": "ipython3",
   "version": "3.8.8"
  }
 },
 "nbformat": 4,
 "nbformat_minor": 5
}
